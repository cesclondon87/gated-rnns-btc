{
  "nbformat": 4,
  "nbformat_minor": 0,
  "metadata": {
    "colab": {
      "name": "rnn-btc.ipynb",
      "provenance": [],
      "collapsed_sections": [],
      "authorship_tag": "ABX9TyOuFtmlBmKhqGntvmubhyQm",
      "include_colab_link": true
    },
    "kernelspec": {
      "name": "python3",
      "display_name": "Python 3"
    }
  },
  "cells": [
    {
      "cell_type": "markdown",
      "metadata": {
        "id": "view-in-github",
        "colab_type": "text"
      },
      "source": [
        "<a href=\"https://colab.research.google.com/github/cesclondon87/gated-rnns-btc/blob/master/rnn_btc.ipynb\" target=\"_parent\"><img src=\"https://colab.research.google.com/assets/colab-badge.svg\" alt=\"Open In Colab\"/></a>"
      ]
    },
    {
      "cell_type": "code",
      "metadata": {
        "id": "iZNgx1UZsWYm",
        "colab_type": "code",
        "colab": {}
      },
      "source": [
        "import requests\n",
        "from keras.models import Sequential\n",
        "from keras.layers import Activation, Dense, Dropout, LSTM\n",
        "import matplotlib.pyplot as plt\n",
        "import numpy as np\n",
        "import pandas as pd\n",
        "from sklearn.metrics import mean_absolute_error\n",
        "%matplotlib inline"
      ],
      "execution_count": 0,
      "outputs": []
    },
    {
      "cell_type": "code",
      "metadata": {
        "id": "DtWoje16mZwh",
        "colab_type": "code",
        "colab": {}
      },
      "source": [
        "data = pd.read_csv('/content/BTC-USD.csv', index_col = None)\n"
      ],
      "execution_count": 0,
      "outputs": []
    },
    {
      "cell_type": "code",
      "metadata": {
        "id": "KCpgCbUjnpuR",
        "colab_type": "code",
        "colab": {
          "base_uri": "https://localhost:8080/",
          "height": 419
        },
        "outputId": "130009a3-bfaa-4702-9096-5eac0cd98d27"
      },
      "source": [
        "data"
      ],
      "execution_count": 24,
      "outputs": [
        {
          "output_type": "execute_result",
          "data": {
            "text/html": [
              "<div>\n",
              "<style scoped>\n",
              "    .dataframe tbody tr th:only-of-type {\n",
              "        vertical-align: middle;\n",
              "    }\n",
              "\n",
              "    .dataframe tbody tr th {\n",
              "        vertical-align: top;\n",
              "    }\n",
              "\n",
              "    .dataframe thead th {\n",
              "        text-align: right;\n",
              "    }\n",
              "</style>\n",
              "<table border=\"1\" class=\"dataframe\">\n",
              "  <thead>\n",
              "    <tr style=\"text-align: right;\">\n",
              "      <th></th>\n",
              "      <th>Date</th>\n",
              "      <th>Open</th>\n",
              "      <th>High</th>\n",
              "      <th>Low</th>\n",
              "      <th>Close</th>\n",
              "      <th>Adj Close</th>\n",
              "      <th>Volume</th>\n",
              "    </tr>\n",
              "  </thead>\n",
              "  <tbody>\n",
              "    <tr>\n",
              "      <th>0</th>\n",
              "      <td>2014-09-17</td>\n",
              "      <td>465.864014</td>\n",
              "      <td>468.174011</td>\n",
              "      <td>452.421997</td>\n",
              "      <td>457.334015</td>\n",
              "      <td>457.334015</td>\n",
              "      <td>21056800</td>\n",
              "    </tr>\n",
              "    <tr>\n",
              "      <th>1</th>\n",
              "      <td>2014-09-18</td>\n",
              "      <td>456.859985</td>\n",
              "      <td>456.859985</td>\n",
              "      <td>413.104004</td>\n",
              "      <td>424.440002</td>\n",
              "      <td>424.440002</td>\n",
              "      <td>34483200</td>\n",
              "    </tr>\n",
              "    <tr>\n",
              "      <th>2</th>\n",
              "      <td>2014-09-19</td>\n",
              "      <td>424.102997</td>\n",
              "      <td>427.834991</td>\n",
              "      <td>384.532013</td>\n",
              "      <td>394.795990</td>\n",
              "      <td>394.795990</td>\n",
              "      <td>37919700</td>\n",
              "    </tr>\n",
              "    <tr>\n",
              "      <th>3</th>\n",
              "      <td>2014-09-20</td>\n",
              "      <td>394.673004</td>\n",
              "      <td>423.295990</td>\n",
              "      <td>389.882996</td>\n",
              "      <td>408.903992</td>\n",
              "      <td>408.903992</td>\n",
              "      <td>36863600</td>\n",
              "    </tr>\n",
              "    <tr>\n",
              "      <th>4</th>\n",
              "      <td>2014-09-21</td>\n",
              "      <td>408.084991</td>\n",
              "      <td>412.425995</td>\n",
              "      <td>393.181000</td>\n",
              "      <td>398.821014</td>\n",
              "      <td>398.821014</td>\n",
              "      <td>26580100</td>\n",
              "    </tr>\n",
              "    <tr>\n",
              "      <th>...</th>\n",
              "      <td>...</td>\n",
              "      <td>...</td>\n",
              "      <td>...</td>\n",
              "      <td>...</td>\n",
              "      <td>...</td>\n",
              "      <td>...</td>\n",
              "      <td>...</td>\n",
              "    </tr>\n",
              "    <tr>\n",
              "      <th>2041</th>\n",
              "      <td>2020-04-19</td>\n",
              "      <td>7260.922363</td>\n",
              "      <td>7280.521973</td>\n",
              "      <td>7167.054688</td>\n",
              "      <td>7189.424805</td>\n",
              "      <td>7189.424805</td>\n",
              "      <td>31311210215</td>\n",
              "    </tr>\n",
              "    <tr>\n",
              "      <th>2042</th>\n",
              "      <td>2020-04-20</td>\n",
              "      <td>7186.873535</td>\n",
              "      <td>7240.290527</td>\n",
              "      <td>6835.502930</td>\n",
              "      <td>6881.958496</td>\n",
              "      <td>6881.958496</td>\n",
              "      <td>37747113935</td>\n",
              "    </tr>\n",
              "    <tr>\n",
              "      <th>2043</th>\n",
              "      <td>2020-04-21</td>\n",
              "      <td>6879.784180</td>\n",
              "      <td>6934.551758</td>\n",
              "      <td>6834.442383</td>\n",
              "      <td>6880.323242</td>\n",
              "      <td>6880.323242</td>\n",
              "      <td>32589741510</td>\n",
              "    </tr>\n",
              "    <tr>\n",
              "      <th>2044</th>\n",
              "      <td>2020-04-22</td>\n",
              "      <td>6879.440430</td>\n",
              "      <td>7145.865723</td>\n",
              "      <td>6867.781738</td>\n",
              "      <td>7117.207520</td>\n",
              "      <td>7117.207520</td>\n",
              "      <td>33249153865</td>\n",
              "    </tr>\n",
              "    <tr>\n",
              "      <th>2045</th>\n",
              "      <td>2020-04-23</td>\n",
              "      <td>7121.306152</td>\n",
              "      <td>7491.785156</td>\n",
              "      <td>7081.594727</td>\n",
              "      <td>7429.724609</td>\n",
              "      <td>7429.724609</td>\n",
              "      <td>43500782316</td>\n",
              "    </tr>\n",
              "  </tbody>\n",
              "</table>\n",
              "<p>2046 rows × 7 columns</p>\n",
              "</div>"
            ],
            "text/plain": [
              "            Date         Open  ...    Adj Close       Volume\n",
              "0     2014-09-17   465.864014  ...   457.334015     21056800\n",
              "1     2014-09-18   456.859985  ...   424.440002     34483200\n",
              "2     2014-09-19   424.102997  ...   394.795990     37919700\n",
              "3     2014-09-20   394.673004  ...   408.903992     36863600\n",
              "4     2014-09-21   408.084991  ...   398.821014     26580100\n",
              "...          ...          ...  ...          ...          ...\n",
              "2041  2020-04-19  7260.922363  ...  7189.424805  31311210215\n",
              "2042  2020-04-20  7186.873535  ...  6881.958496  37747113935\n",
              "2043  2020-04-21  6879.784180  ...  6880.323242  32589741510\n",
              "2044  2020-04-22  6879.440430  ...  7117.207520  33249153865\n",
              "2045  2020-04-23  7121.306152  ...  7429.724609  43500782316\n",
              "\n",
              "[2046 rows x 7 columns]"
            ]
          },
          "metadata": {
            "tags": []
          },
          "execution_count": 24
        }
      ]
    },
    {
      "cell_type": "code",
      "metadata": {
        "id": "tTKQrLspnqhT",
        "colab_type": "code",
        "colab": {
          "base_uri": "https://localhost:8080/",
          "height": 204
        },
        "outputId": "53d845c1-963f-4f29-b186-b83491c37bd3"
      },
      "source": [
        "data.head()\n"
      ],
      "execution_count": 25,
      "outputs": [
        {
          "output_type": "execute_result",
          "data": {
            "text/html": [
              "<div>\n",
              "<style scoped>\n",
              "    .dataframe tbody tr th:only-of-type {\n",
              "        vertical-align: middle;\n",
              "    }\n",
              "\n",
              "    .dataframe tbody tr th {\n",
              "        vertical-align: top;\n",
              "    }\n",
              "\n",
              "    .dataframe thead th {\n",
              "        text-align: right;\n",
              "    }\n",
              "</style>\n",
              "<table border=\"1\" class=\"dataframe\">\n",
              "  <thead>\n",
              "    <tr style=\"text-align: right;\">\n",
              "      <th></th>\n",
              "      <th>Date</th>\n",
              "      <th>Open</th>\n",
              "      <th>High</th>\n",
              "      <th>Low</th>\n",
              "      <th>Close</th>\n",
              "      <th>Adj Close</th>\n",
              "      <th>Volume</th>\n",
              "    </tr>\n",
              "  </thead>\n",
              "  <tbody>\n",
              "    <tr>\n",
              "      <th>0</th>\n",
              "      <td>2014-09-17</td>\n",
              "      <td>465.864014</td>\n",
              "      <td>468.174011</td>\n",
              "      <td>452.421997</td>\n",
              "      <td>457.334015</td>\n",
              "      <td>457.334015</td>\n",
              "      <td>21056800</td>\n",
              "    </tr>\n",
              "    <tr>\n",
              "      <th>1</th>\n",
              "      <td>2014-09-18</td>\n",
              "      <td>456.859985</td>\n",
              "      <td>456.859985</td>\n",
              "      <td>413.104004</td>\n",
              "      <td>424.440002</td>\n",
              "      <td>424.440002</td>\n",
              "      <td>34483200</td>\n",
              "    </tr>\n",
              "    <tr>\n",
              "      <th>2</th>\n",
              "      <td>2014-09-19</td>\n",
              "      <td>424.102997</td>\n",
              "      <td>427.834991</td>\n",
              "      <td>384.532013</td>\n",
              "      <td>394.795990</td>\n",
              "      <td>394.795990</td>\n",
              "      <td>37919700</td>\n",
              "    </tr>\n",
              "    <tr>\n",
              "      <th>3</th>\n",
              "      <td>2014-09-20</td>\n",
              "      <td>394.673004</td>\n",
              "      <td>423.295990</td>\n",
              "      <td>389.882996</td>\n",
              "      <td>408.903992</td>\n",
              "      <td>408.903992</td>\n",
              "      <td>36863600</td>\n",
              "    </tr>\n",
              "    <tr>\n",
              "      <th>4</th>\n",
              "      <td>2014-09-21</td>\n",
              "      <td>408.084991</td>\n",
              "      <td>412.425995</td>\n",
              "      <td>393.181000</td>\n",
              "      <td>398.821014</td>\n",
              "      <td>398.821014</td>\n",
              "      <td>26580100</td>\n",
              "    </tr>\n",
              "  </tbody>\n",
              "</table>\n",
              "</div>"
            ],
            "text/plain": [
              "         Date        Open        High  ...       Close   Adj Close    Volume\n",
              "0  2014-09-17  465.864014  468.174011  ...  457.334015  457.334015  21056800\n",
              "1  2014-09-18  456.859985  456.859985  ...  424.440002  424.440002  34483200\n",
              "2  2014-09-19  424.102997  427.834991  ...  394.795990  394.795990  37919700\n",
              "3  2014-09-20  394.673004  423.295990  ...  408.903992  408.903992  36863600\n",
              "4  2014-09-21  408.084991  412.425995  ...  398.821014  398.821014  26580100\n",
              "\n",
              "[5 rows x 7 columns]"
            ]
          },
          "metadata": {
            "tags": []
          },
          "execution_count": 25
        }
      ]
    },
    {
      "cell_type": "code",
      "metadata": {
        "id": "EnQRq39ApfjH",
        "colab_type": "code",
        "colab": {
          "base_uri": "https://localhost:8080/",
          "height": 153
        },
        "outputId": "69b8c622-4df9-42f6-876a-e2fadbe9d39c"
      },
      "source": [
        "data.dtypes\n"
      ],
      "execution_count": 26,
      "outputs": [
        {
          "output_type": "execute_result",
          "data": {
            "text/plain": [
              "Date          object\n",
              "Open         float64\n",
              "High         float64\n",
              "Low          float64\n",
              "Close        float64\n",
              "Adj Close    float64\n",
              "Volume         int64\n",
              "dtype: object"
            ]
          },
          "metadata": {
            "tags": []
          },
          "execution_count": 26
        }
      ]
    },
    {
      "cell_type": "code",
      "metadata": {
        "id": "ICKOltP3p3Mg",
        "colab_type": "code",
        "colab": {}
      },
      "source": [
        "data = data.drop(['Open', 'High', 'Low', 'Adj Close', 'Volume'], axis = 1)\n",
        "price_column = 'Close'\n",
        "data = data.set_index('Date')\n",
        "data.index = pd.to_datetime(data.index)"
      ],
      "execution_count": 0,
      "outputs": []
    },
    {
      "cell_type": "code",
      "metadata": {
        "id": "8hJ1SEt7p9Dh",
        "colab_type": "code",
        "colab": {
          "base_uri": "https://localhost:8080/",
          "height": 450
        },
        "outputId": "16edc439-e6a1-4561-e313-acea659df459"
      },
      "source": [
        "data"
      ],
      "execution_count": 28,
      "outputs": [
        {
          "output_type": "execute_result",
          "data": {
            "text/html": [
              "<div>\n",
              "<style scoped>\n",
              "    .dataframe tbody tr th:only-of-type {\n",
              "        vertical-align: middle;\n",
              "    }\n",
              "\n",
              "    .dataframe tbody tr th {\n",
              "        vertical-align: top;\n",
              "    }\n",
              "\n",
              "    .dataframe thead th {\n",
              "        text-align: right;\n",
              "    }\n",
              "</style>\n",
              "<table border=\"1\" class=\"dataframe\">\n",
              "  <thead>\n",
              "    <tr style=\"text-align: right;\">\n",
              "      <th></th>\n",
              "      <th>Close</th>\n",
              "    </tr>\n",
              "    <tr>\n",
              "      <th>Date</th>\n",
              "      <th></th>\n",
              "    </tr>\n",
              "  </thead>\n",
              "  <tbody>\n",
              "    <tr>\n",
              "      <th>2014-09-17</th>\n",
              "      <td>457.334015</td>\n",
              "    </tr>\n",
              "    <tr>\n",
              "      <th>2014-09-18</th>\n",
              "      <td>424.440002</td>\n",
              "    </tr>\n",
              "    <tr>\n",
              "      <th>2014-09-19</th>\n",
              "      <td>394.795990</td>\n",
              "    </tr>\n",
              "    <tr>\n",
              "      <th>2014-09-20</th>\n",
              "      <td>408.903992</td>\n",
              "    </tr>\n",
              "    <tr>\n",
              "      <th>2014-09-21</th>\n",
              "      <td>398.821014</td>\n",
              "    </tr>\n",
              "    <tr>\n",
              "      <th>...</th>\n",
              "      <td>...</td>\n",
              "    </tr>\n",
              "    <tr>\n",
              "      <th>2020-04-19</th>\n",
              "      <td>7189.424805</td>\n",
              "    </tr>\n",
              "    <tr>\n",
              "      <th>2020-04-20</th>\n",
              "      <td>6881.958496</td>\n",
              "    </tr>\n",
              "    <tr>\n",
              "      <th>2020-04-21</th>\n",
              "      <td>6880.323242</td>\n",
              "    </tr>\n",
              "    <tr>\n",
              "      <th>2020-04-22</th>\n",
              "      <td>7117.207520</td>\n",
              "    </tr>\n",
              "    <tr>\n",
              "      <th>2020-04-23</th>\n",
              "      <td>7429.724609</td>\n",
              "    </tr>\n",
              "  </tbody>\n",
              "</table>\n",
              "<p>2046 rows × 1 columns</p>\n",
              "</div>"
            ],
            "text/plain": [
              "                  Close\n",
              "Date                   \n",
              "2014-09-17   457.334015\n",
              "2014-09-18   424.440002\n",
              "2014-09-19   394.795990\n",
              "2014-09-20   408.903992\n",
              "2014-09-21   398.821014\n",
              "...                 ...\n",
              "2020-04-19  7189.424805\n",
              "2020-04-20  6881.958496\n",
              "2020-04-21  6880.323242\n",
              "2020-04-22  7117.207520\n",
              "2020-04-23  7429.724609\n",
              "\n",
              "[2046 rows x 1 columns]"
            ]
          },
          "metadata": {
            "tags": []
          },
          "execution_count": 28
        }
      ]
    },
    {
      "cell_type": "code",
      "metadata": {
        "id": "vEfpkCUrp-Rx",
        "colab_type": "code",
        "colab": {}
      },
      "source": [
        "def train_test_split(df, test_size=0.2):\n",
        "    split_row = len(df) - int(test_size * len(df))\n",
        "    train_data = df.iloc[:split_row]\n",
        "    test_data = df.iloc[split_row:]\n",
        "    return train_data, test_data\n",
        "train, test = train_test_split(data, test_size=0.2)"
      ],
      "execution_count": 0,
      "outputs": []
    },
    {
      "cell_type": "code",
      "metadata": {
        "id": "KX3RTTVuqDqh",
        "colab_type": "code",
        "colab": {
          "base_uri": "https://localhost:8080/",
          "height": 464
        },
        "outputId": "75cdc1e4-82f7-48c4-ff99-a45c03557859"
      },
      "source": [
        "def line_plot(line1, line2, label1=None, label2=None, title='', lw=2):\n",
        "    fig, ax = plt.subplots(1, figsize=(13, 7))\n",
        "    ax.plot(line1, label=label1, linewidth=lw)\n",
        "    ax.plot(line2, label=label2, linewidth=lw)\n",
        "    ax.set_ylabel('Price [USD]', fontsize=14)\n",
        "    ax.set_xlabel('Time', fontsize = 14)\n",
        "    ax.set_title(title, fontsize=16)\n",
        "    ax.legend(loc='best', fontsize=16)\n",
        "line_plot(train[price_column], test[price_column], 'Training Prices', 'Testing Prices', title='Project Outline')"
      ],
      "execution_count": 30,
      "outputs": [
        {
          "output_type": "display_data",
          "data": {
            "image/png": "[encoded data removed]",
            "text/plain": [
              "<Figure size 936x504 with 1 Axes>"
            ]
          },
          "metadata": {
            "tags": [],
            "needs_background": "light"
          }
        }
      ]
    },
    {
      "cell_type": "code",
      "metadata": {
        "id": "_Zx5D1pPqIVz",
        "colab_type": "code",
        "colab": {}
      },
      "source": [
        "def normalise_zero_base(df):\n",
        "    return df / df.iloc[0] - 1\n",
        "\n",
        "def normalise_min_max(df):\n",
        "    return (df - df.min()) / (data.max() - df.min())"
      ],
      "execution_count": 0,
      "outputs": []
    },
    {
      "cell_type": "code",
      "metadata": {
        "id": "QtK04Oh9ranu",
        "colab_type": "code",
        "colab": {}
      },
      "source": [
        "def extract_window_data(df, window_len=5, zero_base=True):\n",
        "    window_data = []\n",
        "    for idx in range(len(df) - window_len):\n",
        "        tmp = df[idx: (idx + window_len)].copy()\n",
        "        if zero_base:\n",
        "            tmp = normalise_zero_base(tmp)\n",
        "        window_data.append(tmp.values)\n",
        "    return np.array(window_data)"
      ],
      "execution_count": 0,
      "outputs": []
    },
    {
      "cell_type": "code",
      "metadata": {
        "id": "NUGNTkFrrcVd",
        "colab_type": "code",
        "colab": {}
      },
      "source": [
        "def prepare_data(df, price_column, window_len=10, zero_base=True, test_size=0.2):\n",
        "    train_data, test_data = train_test_split(df, test_size=test_size)\n",
        "    X_train = extract_window_data(train_data, window_len, zero_base)\n",
        "    X_test = extract_window_data(test_data, window_len, zero_base)\n",
        "    y_train = train_data[price_column][window_len:].values\n",
        "    y_test = test_data[price_column][window_len:].values\n",
        "    if zero_base:\n",
        "        y_train = y_train / train_data[price_column][:-window_len].values - 1\n",
        "        y_test = y_test / test_data[price_column][:-window_len].values - 1\n",
        "\n",
        "    return train_data, test_data, X_train, X_test, y_train, y_test"
      ],
      "execution_count": 0,
      "outputs": []
    },
    {
      "cell_type": "code",
      "metadata": {
        "id": "UArZYZehrkiv",
        "colab_type": "code",
        "colab": {}
      },
      "source": [
        "def build_lstm_model(input_data, output_size, neurons=100, activ_func='linear', dropout=0.2, loss='mse', optimizer='adam'):\n",
        "    model = Sequential()\n",
        "    model.add(LSTM(neurons, input_shape=(input_data.shape[1], input_data.shape[2])))\n",
        "    model.add(Dropout(dropout))\n",
        "    model.add(Dense(units=output_size))\n",
        "    model.add(Activation(activ_func))\n",
        "    model.compile(loss=loss, optimizer=optimizer)\n",
        "    return model\n",
        "  "
      ],
      "execution_count": 0,
      "outputs": []
    },
    {
      "cell_type": "code",
      "metadata": {
        "id": "rwhxHZRjrr6e",
        "colab_type": "code",
        "colab": {}
      },
      "source": [
        "np.random.seed(42)\n",
        "window_len = 5\n",
        "test_size = 0.2\n",
        "zero_base = True\n",
        "lstm_neurons = 100\n",
        "epochs = 100\n",
        "batch_size = 32\n",
        "loss = 'mse'\n",
        "dropout = 0.2\n",
        "optimizer = 'adam'"
      ],
      "execution_count": 0,
      "outputs": []
    },
    {
      "cell_type": "code",
      "metadata": {
        "id": "vfNJ-dLMrvvH",
        "colab_type": "code",
        "colab": {
          "base_uri": "https://localhost:8080/",
          "height": 1000
        },
        "outputId": "a8ce430c-54d2-4896-dfbd-115d487187e6"
      },
      "source": [
        "train, test, X_train, X_test, y_train, y_test = prepare_data(\n",
        "    data, price_column, window_len=window_len, zero_base=zero_base, test_size=test_size)\n",
        "model = build_lstm_model(\n",
        "    X_train, output_size=1, neurons=lstm_neurons, dropout=dropout, loss=loss,\n",
        "    optimizer=optimizer)\n",
        "history = model.fit(\n",
        "    X_train, y_train, epochs=epochs, batch_size=batch_size, verbose=1, shuffle=True)"
      ],
      "execution_count": 36,
      "outputs": [
        {
          "output_type": "stream",
          "text": [
            "Epoch 1/100\n",
            "1632/1632 [==============================] - 1s 349us/step - loss: 0.0046\n",
            "Epoch 2/100\n",
            "1632/1632 [==============================] - 0s 177us/step - loss: 0.0029\n",
            "Epoch 3/100\n",
            "1632/1632 [==============================] - 0s 174us/step - loss: 0.0025\n",
            "Epoch 4/100\n",
            "1632/1632 [==============================] - 0s 173us/step - loss: 0.0021\n",
            "Epoch 5/100\n",
            "1632/1632 [==============================] - 0s 177us/step - loss: 0.0020\n",
            "Epoch 6/100\n",
            "1632/1632 [==============================] - 0s 177us/step - loss: 0.0018\n",
            "Epoch 7/100\n",
            "1632/1632 [==============================] - 0s 172us/step - loss: 0.0018\n",
            "Epoch 8/100\n",
            "1632/1632 [==============================] - 0s 178us/step - loss: 0.0017\n",
            "Epoch 9/100\n",
            "1632/1632 [==============================] - 0s 180us/step - loss: 0.0017\n",
            "Epoch 10/100\n",
            "1632/1632 [==============================] - 0s 180us/step - loss: 0.0016\n",
            "Epoch 11/100\n",
            "1632/1632 [==============================] - 0s 199us/step - loss: 0.0016\n",
            "Epoch 12/100\n",
            "1632/1632 [==============================] - 0s 195us/step - loss: 0.0016\n",
            "Epoch 13/100\n",
            "1632/1632 [==============================] - 0s 186us/step - loss: 0.0016\n",
            "Epoch 14/100\n",
            "1632/1632 [==============================] - 0s 187us/step - loss: 0.0016\n",
            "Epoch 15/100\n",
            "1632/1632 [==============================] - 0s 180us/step - loss: 0.0016\n",
            "Epoch 16/100\n",
            "1632/1632 [==============================] - 0s 177us/step - loss: 0.0016\n",
            "Epoch 17/100\n",
            "1632/1632 [==============================] - 0s 196us/step - loss: 0.0016\n",
            "Epoch 18/100\n",
            "1632/1632 [==============================] - 0s 177us/step - loss: 0.0016\n",
            "Epoch 19/100\n",
            "1632/1632 [==============================] - 0s 173us/step - loss: 0.0016\n",
            "Epoch 20/100\n",
            "1632/1632 [==============================] - 0s 184us/step - loss: 0.0016\n",
            "Epoch 21/100\n",
            "1632/1632 [==============================] - 0s 176us/step - loss: 0.0016\n",
            "Epoch 22/100\n",
            "1632/1632 [==============================] - 0s 182us/step - loss: 0.0016\n",
            "Epoch 23/100\n",
            "1632/1632 [==============================] - 0s 176us/step - loss: 0.0016\n",
            "Epoch 24/100\n",
            "1632/1632 [==============================] - 0s 180us/step - loss: 0.0016\n",
            "Epoch 25/100\n",
            "1632/1632 [==============================] - 0s 183us/step - loss: 0.0016\n",
            "Epoch 26/100\n",
            "1632/1632 [==============================] - 0s 175us/step - loss: 0.0016\n",
            "Epoch 27/100\n",
            "1632/1632 [==============================] - 0s 177us/step - loss: 0.0016\n",
            "Epoch 28/100\n",
            "1632/1632 [==============================] - 0s 189us/step - loss: 0.0016\n",
            "Epoch 29/100\n",
            "1632/1632 [==============================] - 0s 189us/step - loss: 0.0016\n",
            "Epoch 30/100\n",
            "1632/1632 [==============================] - 0s 176us/step - loss: 0.0016\n",
            "Epoch 31/100\n",
            "1632/1632 [==============================] - 0s 193us/step - loss: 0.0016\n",
            "Epoch 32/100\n",
            "1632/1632 [==============================] - 0s 174us/step - loss: 0.0016\n",
            "Epoch 33/100\n",
            "1632/1632 [==============================] - 0s 199us/step - loss: 0.0016\n",
            "Epoch 34/100\n",
            "1632/1632 [==============================] - 0s 173us/step - loss: 0.0016\n",
            "Epoch 35/100\n",
            "1632/1632 [==============================] - 0s 178us/step - loss: 0.0016\n",
            "Epoch 36/100\n",
            "1632/1632 [==============================] - 0s 174us/step - loss: 0.0016\n",
            "Epoch 37/100\n",
            "1632/1632 [==============================] - 0s 180us/step - loss: 0.0016\n",
            "Epoch 38/100\n",
            "1632/1632 [==============================] - 0s 200us/step - loss: 0.0016\n",
            "Epoch 39/100\n",
            "1632/1632 [==============================] - 0s 196us/step - loss: 0.0016\n",
            "Epoch 40/100\n",
            "1632/1632 [==============================] - 0s 183us/step - loss: 0.0016\n",
            "Epoch 41/100\n",
            "1632/1632 [==============================] - 0s 175us/step - loss: 0.0016\n",
            "Epoch 42/100\n",
            "1632/1632 [==============================] - 0s 184us/step - loss: 0.0016\n",
            "Epoch 43/100\n",
            "1632/1632 [==============================] - 0s 178us/step - loss: 0.0016\n",
            "Epoch 44/100\n",
            "1632/1632 [==============================] - 0s 187us/step - loss: 0.0016\n",
            "Epoch 45/100\n",
            "1632/1632 [==============================] - 0s 178us/step - loss: 0.0016\n",
            "Epoch 46/100\n",
            "1632/1632 [==============================] - 0s 181us/step - loss: 0.0016\n",
            "Epoch 47/100\n",
            "1632/1632 [==============================] - 0s 190us/step - loss: 0.0016\n",
            "Epoch 48/100\n",
            "1632/1632 [==============================] - 0s 200us/step - loss: 0.0016\n",
            "Epoch 49/100\n",
            "1632/1632 [==============================] - 0s 197us/step - loss: 0.0016\n",
            "Epoch 50/100\n",
            "1632/1632 [==============================] - 0s 202us/step - loss: 0.0016\n",
            "Epoch 51/100\n",
            "1632/1632 [==============================] - 0s 179us/step - loss: 0.0016\n",
            "Epoch 52/100\n",
            "1632/1632 [==============================] - 0s 177us/step - loss: 0.0016\n",
            "Epoch 53/100\n",
            "1632/1632 [==============================] - 0s 177us/step - loss: 0.0015\n",
            "Epoch 54/100\n",
            "1632/1632 [==============================] - 0s 177us/step - loss: 0.0016\n",
            "Epoch 55/100\n",
            "1632/1632 [==============================] - 0s 180us/step - loss: 0.0016\n",
            "Epoch 56/100\n",
            "1632/1632 [==============================] - 0s 175us/step - loss: 0.0016\n",
            "Epoch 57/100\n",
            "1632/1632 [==============================] - 0s 178us/step - loss: 0.0016\n",
            "Epoch 58/100\n",
            "1632/1632 [==============================] - 0s 182us/step - loss: 0.0016\n",
            "Epoch 59/100\n",
            "1632/1632 [==============================] - 0s 179us/step - loss: 0.0015\n",
            "Epoch 60/100\n",
            "1632/1632 [==============================] - 0s 181us/step - loss: 0.0016\n",
            "Epoch 61/100\n",
            "1632/1632 [==============================] - 0s 178us/step - loss: 0.0016\n",
            "Epoch 62/100\n",
            "1632/1632 [==============================] - 0s 187us/step - loss: 0.0016\n",
            "Epoch 63/100\n",
            "1632/1632 [==============================] - 0s 188us/step - loss: 0.0016\n",
            "Epoch 64/100\n",
            "1632/1632 [==============================] - 0s 185us/step - loss: 0.0016\n",
            "Epoch 65/100\n",
            "1632/1632 [==============================] - 0s 170us/step - loss: 0.0016\n",
            "Epoch 66/100\n",
            "1632/1632 [==============================] - 0s 193us/step - loss: 0.0016\n",
            "Epoch 67/100\n",
            "1632/1632 [==============================] - 0s 189us/step - loss: 0.0016\n",
            "Epoch 68/100\n",
            "1632/1632 [==============================] - 0s 177us/step - loss: 0.0016\n",
            "Epoch 69/100\n",
            "1632/1632 [==============================] - 0s 178us/step - loss: 0.0016\n",
            "Epoch 70/100\n",
            "1632/1632 [==============================] - 0s 190us/step - loss: 0.0016\n",
            "Epoch 71/100\n",
            "1632/1632 [==============================] - 0s 183us/step - loss: 0.0016\n",
            "Epoch 72/100\n",
            "1632/1632 [==============================] - 0s 185us/step - loss: 0.0016\n",
            "Epoch 73/100\n",
            "1632/1632 [==============================] - 0s 176us/step - loss: 0.0016\n",
            "Epoch 74/100\n",
            "1632/1632 [==============================] - 0s 181us/step - loss: 0.0016\n",
            "Epoch 75/100\n",
            "1632/1632 [==============================] - 0s 176us/step - loss: 0.0016\n",
            "Epoch 76/100\n",
            "1632/1632 [==============================] - 0s 181us/step - loss: 0.0016\n",
            "Epoch 77/100\n",
            "1632/1632 [==============================] - 0s 182us/step - loss: 0.0016\n",
            "Epoch 78/100\n",
            "1632/1632 [==============================] - 0s 179us/step - loss: 0.0016\n",
            "Epoch 79/100\n",
            "1632/1632 [==============================] - 0s 178us/step - loss: 0.0016\n",
            "Epoch 80/100\n",
            "1632/1632 [==============================] - 0s 175us/step - loss: 0.0016\n",
            "Epoch 81/100\n",
            "1632/1632 [==============================] - 0s 178us/step - loss: 0.0016\n",
            "Epoch 82/100\n",
            "1632/1632 [==============================] - 0s 177us/step - loss: 0.0016\n",
            "Epoch 83/100\n",
            "1632/1632 [==============================] - 0s 178us/step - loss: 0.0015\n",
            "Epoch 84/100\n",
            "1632/1632 [==============================] - 0s 180us/step - loss: 0.0016\n",
            "Epoch 85/100\n",
            "1632/1632 [==============================] - 0s 169us/step - loss: 0.0016\n",
            "Epoch 86/100\n",
            "1632/1632 [==============================] - 0s 173us/step - loss: 0.0015\n",
            "Epoch 87/100\n",
            "1632/1632 [==============================] - 0s 176us/step - loss: 0.0016\n",
            "Epoch 88/100\n",
            "1632/1632 [==============================] - 0s 175us/step - loss: 0.0016\n",
            "Epoch 89/100\n",
            "1632/1632 [==============================] - 0s 180us/step - loss: 0.0016\n",
            "Epoch 90/100\n",
            "1632/1632 [==============================] - 0s 182us/step - loss: 0.0016\n",
            "Epoch 91/100\n",
            "1632/1632 [==============================] - 0s 178us/step - loss: 0.0016\n",
            "Epoch 92/100\n",
            "1632/1632 [==============================] - 0s 175us/step - loss: 0.0016\n",
            "Epoch 93/100\n",
            "1632/1632 [==============================] - 0s 175us/step - loss: 0.0016\n",
            "Epoch 94/100\n",
            "1632/1632 [==============================] - 0s 175us/step - loss: 0.0015\n",
            "Epoch 95/100\n",
            "1632/1632 [==============================] - 0s 174us/step - loss: 0.0016\n",
            "Epoch 96/100\n",
            "1632/1632 [==============================] - 0s 177us/step - loss: 0.0016\n",
            "Epoch 97/100\n",
            "1632/1632 [==============================] - 0s 178us/step - loss: 0.0016\n",
            "Epoch 98/100\n",
            "1632/1632 [==============================] - 0s 182us/step - loss: 0.0016\n",
            "Epoch 99/100\n",
            "1632/1632 [==============================] - 0s 179us/step - loss: 0.0016\n",
            "Epoch 100/100\n",
            "1632/1632 [==============================] - 0s 171us/step - loss: 0.0016\n"
          ],
          "name": "stdout"
        }
      ]
    },
    {
      "cell_type": "code",
      "metadata": {
        "id": "etiOh-55tpuG",
        "colab_type": "code",
        "colab": {}
      },
      "source": [
        "targets = test[price_column][window_len:]\n",
        "preds = model.predict(X_test).squeeze()"
      ],
      "execution_count": 0,
      "outputs": []
    },
    {
      "cell_type": "code",
      "metadata": {
        "id": "XuKCCxkQt64u",
        "colab_type": "code",
        "colab": {
          "base_uri": "https://localhost:8080/",
          "height": 446
        },
        "outputId": "5c19a22c-96af-4b7a-a587-c5bfd6df181a"
      },
      "source": [
        "preds = test[price_column].values[:-window_len] * (preds + 1)\n",
        "preds = pd.Series(index=targets.index, data=preds)\n",
        "line_plot(targets, preds, 'actual_value', 'predicted_value', lw=3)"
      ],
      "execution_count": 38,
      "outputs": [
        {
          "output_type": "display_data",
          "data": {
            "image/png": "[encoded data removed]",
            "text/plain": [
              "<Figure size 936x504 with 1 Axes>"
            ]
          },
          "metadata": {
            "tags": [],
            "needs_background": "light"
          }
        }
      ]
    },
    {
      "cell_type": "code",
      "metadata": {
        "id": "9s9M318muHG4",
        "colab_type": "code",
        "colab": {
          "base_uri": "https://localhost:8080/",
          "height": 238
        },
        "outputId": "d1304a73-1cd7-4b12-9d44-0eee7021e738"
      },
      "source": [
        "preds"
      ],
      "execution_count": 39,
      "outputs": [
        {
          "output_type": "execute_result",
          "data": {
            "text/plain": [
              "Date\n",
              "2019-03-17    4063.799520\n",
              "2019-03-18    4035.399547\n",
              "2019-03-19    4048.170552\n",
              "2019-03-20    4082.548754\n",
              "2019-03-21    4104.306347\n",
              "                 ...     \n",
              "2020-04-19    7299.096501\n",
              "2020-04-20    7175.521784\n",
              "2020-04-21    6917.268580\n",
              "2020-04-22    6915.199299\n",
              "2020-04-23    7154.390535\n",
              "Length: 404, dtype: float64"
            ]
          },
          "metadata": {
            "tags": []
          },
          "execution_count": 39
        }
      ]
    },
    {
      "cell_type": "code",
      "metadata": {
        "id": "sJN0MnLMuK5W",
        "colab_type": "code",
        "colab": {}
      },
      "source": [
        ""
      ],
      "execution_count": 0,
      "outputs": []
    }
  ]
}