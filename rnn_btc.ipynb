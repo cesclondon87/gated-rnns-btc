{
  "nbformat": 4,
  "nbformat_minor": 0,
  "metadata": {
    "colab": {
      "name": "rnn-btc.ipynb",
      "provenance": [],
      "collapsed_sections": [],
      "include_colab_link": true
    },
    "kernelspec": {
      "name": "python3",
      "display_name": "Python 3"
    }
  },
  "cells": [
    {
      "cell_type": "markdown",
      "metadata": {
        "id": "view-in-github",
        "colab_type": "text"
      },
      "source": [
        "<a href=\"https://colab.research.google.com/github/cesclondon87/gated-rnns-btc/blob/master/rnn_btc.ipynb\" target=\"_parent\"><img src=\"https://colab.research.google.com/assets/colab-badge.svg\" alt=\"Open In Colab\"/></a>"
      ]
    },
    {
      "cell_type": "code",
      "metadata": {
        "id": "iZNgx1UZsWYm",
        "colab_type": "code",
        "outputId": "d6928f7e-8c93-4bed-e3a4-779eb28eef50",
        "colab": {
          "base_uri": "https://localhost:8080/",
          "height": 34
        }
      },
      "source": [
        "import requests\n",
        "from keras.models import Sequential\n",
        "from keras.layers import Activation, Dense, Dropout, LSTM\n",
        "import matplotlib.pyplot as plt\n",
        "import numpy as np\n",
        "import pandas as pd\n",
        "from sklearn.metrics import mean_absolute_error\n",
        "%matplotlib inline"
      ],
      "execution_count": 2,
      "outputs": [
        {
          "output_type": "stream",
          "text": [
            "Using TensorFlow backend.\n"
          ],
          "name": "stderr"
        }
      ]
    },
    {
      "cell_type": "markdown",
      "metadata": {
        "id": "vjzI5vFxK9zB",
        "colab_type": "text"
      },
      "source": [
        "# New Section"
      ]
    },
    {
      "cell_type": "code",
      "metadata": {
        "id": "DtWoje16mZwh",
        "colab_type": "code",
        "colab": {}
      },
      "source": [
        "data = pd.read_csv('/content/btc-usd-history.csv', index_col = None)\n"
      ],
      "execution_count": 0,
      "outputs": []
    },
    {
      "cell_type": "code",
      "metadata": {
        "id": "KCpgCbUjnpuR",
        "colab_type": "code",
        "outputId": "314192be-c77d-4551-8fe9-21ae6f0ba879",
        "colab": {
          "base_uri": "https://localhost:8080/",
          "height": 419
        }
      },
      "source": [
        "data"
      ],
      "execution_count": 4,
      "outputs": [
        {
          "output_type": "execute_result",
          "data": {
            "text/html": [
              "<div>\n",
              "<style scoped>\n",
              "    .dataframe tbody tr th:only-of-type {\n",
              "        vertical-align: middle;\n",
              "    }\n",
              "\n",
              "    .dataframe tbody tr th {\n",
              "        vertical-align: top;\n",
              "    }\n",
              "\n",
              "    .dataframe thead th {\n",
              "        text-align: right;\n",
              "    }\n",
              "</style>\n",
              "<table border=\"1\" class=\"dataframe\">\n",
              "  <thead>\n",
              "    <tr style=\"text-align: right;\">\n",
              "      <th></th>\n",
              "      <th>Date</th>\n",
              "      <th>Open</th>\n",
              "      <th>High</th>\n",
              "      <th>Low</th>\n",
              "      <th>Close</th>\n",
              "      <th>Adj Close</th>\n",
              "      <th>Volume</th>\n",
              "    </tr>\n",
              "  </thead>\n",
              "  <tbody>\n",
              "    <tr>\n",
              "      <th>0</th>\n",
              "      <td>2014-09-17</td>\n",
              "      <td>465.864014</td>\n",
              "      <td>468.174011</td>\n",
              "      <td>452.421997</td>\n",
              "      <td>457.334015</td>\n",
              "      <td>457.334015</td>\n",
              "      <td>2.105680e+07</td>\n",
              "    </tr>\n",
              "    <tr>\n",
              "      <th>1</th>\n",
              "      <td>2014-09-18</td>\n",
              "      <td>456.859985</td>\n",
              "      <td>456.859985</td>\n",
              "      <td>413.104004</td>\n",
              "      <td>424.440002</td>\n",
              "      <td>424.440002</td>\n",
              "      <td>3.448320e+07</td>\n",
              "    </tr>\n",
              "    <tr>\n",
              "      <th>2</th>\n",
              "      <td>2014-09-19</td>\n",
              "      <td>424.102997</td>\n",
              "      <td>427.834991</td>\n",
              "      <td>384.532013</td>\n",
              "      <td>394.795990</td>\n",
              "      <td>394.795990</td>\n",
              "      <td>3.791970e+07</td>\n",
              "    </tr>\n",
              "    <tr>\n",
              "      <th>3</th>\n",
              "      <td>2014-09-20</td>\n",
              "      <td>394.673004</td>\n",
              "      <td>423.295990</td>\n",
              "      <td>389.882996</td>\n",
              "      <td>408.903992</td>\n",
              "      <td>408.903992</td>\n",
              "      <td>3.686360e+07</td>\n",
              "    </tr>\n",
              "    <tr>\n",
              "      <th>4</th>\n",
              "      <td>2014-09-21</td>\n",
              "      <td>408.084991</td>\n",
              "      <td>412.425995</td>\n",
              "      <td>393.181000</td>\n",
              "      <td>398.821014</td>\n",
              "      <td>398.821014</td>\n",
              "      <td>2.658010e+07</td>\n",
              "    </tr>\n",
              "    <tr>\n",
              "      <th>...</th>\n",
              "      <td>...</td>\n",
              "      <td>...</td>\n",
              "      <td>...</td>\n",
              "      <td>...</td>\n",
              "      <td>...</td>\n",
              "      <td>...</td>\n",
              "      <td>...</td>\n",
              "    </tr>\n",
              "    <tr>\n",
              "      <th>2051</th>\n",
              "      <td>2020-04-29</td>\n",
              "      <td>7806.712402</td>\n",
              "      <td>8871.753906</td>\n",
              "      <td>7786.049316</td>\n",
              "      <td>8801.038086</td>\n",
              "      <td>8801.038086</td>\n",
              "      <td>6.020105e+10</td>\n",
              "    </tr>\n",
              "    <tr>\n",
              "      <th>2052</th>\n",
              "      <td>2020-04-30</td>\n",
              "      <td>8797.669922</td>\n",
              "      <td>9440.650391</td>\n",
              "      <td>8533.255859</td>\n",
              "      <td>8658.553711</td>\n",
              "      <td>8658.553711</td>\n",
              "      <td>6.696463e+10</td>\n",
              "    </tr>\n",
              "    <tr>\n",
              "      <th>2053</th>\n",
              "      <td>2020-05-01</td>\n",
              "      <td>8672.782227</td>\n",
              "      <td>9048.023438</td>\n",
              "      <td>8667.763672</td>\n",
              "      <td>8864.766602</td>\n",
              "      <td>8864.766602</td>\n",
              "      <td>4.406839e+10</td>\n",
              "    </tr>\n",
              "    <tr>\n",
              "      <th>2054</th>\n",
              "      <td>2020-05-02</td>\n",
              "      <td>NaN</td>\n",
              "      <td>NaN</td>\n",
              "      <td>NaN</td>\n",
              "      <td>NaN</td>\n",
              "      <td>NaN</td>\n",
              "      <td>NaN</td>\n",
              "    </tr>\n",
              "    <tr>\n",
              "      <th>2055</th>\n",
              "      <td>2020-05-03</td>\n",
              "      <td>8988.734375</td>\n",
              "      <td>9166.450195</td>\n",
              "      <td>8838.587891</td>\n",
              "      <td>8860.685547</td>\n",
              "      <td>8860.685547</td>\n",
              "      <td>4.642410e+10</td>\n",
              "    </tr>\n",
              "  </tbody>\n",
              "</table>\n",
              "<p>2056 rows × 7 columns</p>\n",
              "</div>"
            ],
            "text/plain": [
              "            Date         Open  ...    Adj Close        Volume\n",
              "0     2014-09-17   465.864014  ...   457.334015  2.105680e+07\n",
              "1     2014-09-18   456.859985  ...   424.440002  3.448320e+07\n",
              "2     2014-09-19   424.102997  ...   394.795990  3.791970e+07\n",
              "3     2014-09-20   394.673004  ...   408.903992  3.686360e+07\n",
              "4     2014-09-21   408.084991  ...   398.821014  2.658010e+07\n",
              "...          ...          ...  ...          ...           ...\n",
              "2051  2020-04-29  7806.712402  ...  8801.038086  6.020105e+10\n",
              "2052  2020-04-30  8797.669922  ...  8658.553711  6.696463e+10\n",
              "2053  2020-05-01  8672.782227  ...  8864.766602  4.406839e+10\n",
              "2054  2020-05-02          NaN  ...          NaN           NaN\n",
              "2055  2020-05-03  8988.734375  ...  8860.685547  4.642410e+10\n",
              "\n",
              "[2056 rows x 7 columns]"
            ]
          },
          "metadata": {
            "tags": []
          },
          "execution_count": 4
        }
      ]
    },
    {
      "cell_type": "code",
      "metadata": {
        "id": "tTKQrLspnqhT",
        "colab_type": "code",
        "outputId": "24bd5bc2-125d-458f-cf09-a357c03f37b7",
        "colab": {
          "base_uri": "https://localhost:8080/",
          "height": 204
        }
      },
      "source": [
        "data.head()\n"
      ],
      "execution_count": 5,
      "outputs": [
        {
          "output_type": "execute_result",
          "data": {
            "text/html": [
              "<div>\n",
              "<style scoped>\n",
              "    .dataframe tbody tr th:only-of-type {\n",
              "        vertical-align: middle;\n",
              "    }\n",
              "\n",
              "    .dataframe tbody tr th {\n",
              "        vertical-align: top;\n",
              "    }\n",
              "\n",
              "    .dataframe thead th {\n",
              "        text-align: right;\n",
              "    }\n",
              "</style>\n",
              "<table border=\"1\" class=\"dataframe\">\n",
              "  <thead>\n",
              "    <tr style=\"text-align: right;\">\n",
              "      <th></th>\n",
              "      <th>Date</th>\n",
              "      <th>Open</th>\n",
              "      <th>High</th>\n",
              "      <th>Low</th>\n",
              "      <th>Close</th>\n",
              "      <th>Adj Close</th>\n",
              "      <th>Volume</th>\n",
              "    </tr>\n",
              "  </thead>\n",
              "  <tbody>\n",
              "    <tr>\n",
              "      <th>0</th>\n",
              "      <td>2014-09-17</td>\n",
              "      <td>465.864014</td>\n",
              "      <td>468.174011</td>\n",
              "      <td>452.421997</td>\n",
              "      <td>457.334015</td>\n",
              "      <td>457.334015</td>\n",
              "      <td>21056800.0</td>\n",
              "    </tr>\n",
              "    <tr>\n",
              "      <th>1</th>\n",
              "      <td>2014-09-18</td>\n",
              "      <td>456.859985</td>\n",
              "      <td>456.859985</td>\n",
              "      <td>413.104004</td>\n",
              "      <td>424.440002</td>\n",
              "      <td>424.440002</td>\n",
              "      <td>34483200.0</td>\n",
              "    </tr>\n",
              "    <tr>\n",
              "      <th>2</th>\n",
              "      <td>2014-09-19</td>\n",
              "      <td>424.102997</td>\n",
              "      <td>427.834991</td>\n",
              "      <td>384.532013</td>\n",
              "      <td>394.795990</td>\n",
              "      <td>394.795990</td>\n",
              "      <td>37919700.0</td>\n",
              "    </tr>\n",
              "    <tr>\n",
              "      <th>3</th>\n",
              "      <td>2014-09-20</td>\n",
              "      <td>394.673004</td>\n",
              "      <td>423.295990</td>\n",
              "      <td>389.882996</td>\n",
              "      <td>408.903992</td>\n",
              "      <td>408.903992</td>\n",
              "      <td>36863600.0</td>\n",
              "    </tr>\n",
              "    <tr>\n",
              "      <th>4</th>\n",
              "      <td>2014-09-21</td>\n",
              "      <td>408.084991</td>\n",
              "      <td>412.425995</td>\n",
              "      <td>393.181000</td>\n",
              "      <td>398.821014</td>\n",
              "      <td>398.821014</td>\n",
              "      <td>26580100.0</td>\n",
              "    </tr>\n",
              "  </tbody>\n",
              "</table>\n",
              "</div>"
            ],
            "text/plain": [
              "         Date        Open        High  ...       Close   Adj Close      Volume\n",
              "0  2014-09-17  465.864014  468.174011  ...  457.334015  457.334015  21056800.0\n",
              "1  2014-09-18  456.859985  456.859985  ...  424.440002  424.440002  34483200.0\n",
              "2  2014-09-19  424.102997  427.834991  ...  394.795990  394.795990  37919700.0\n",
              "3  2014-09-20  394.673004  423.295990  ...  408.903992  408.903992  36863600.0\n",
              "4  2014-09-21  408.084991  412.425995  ...  398.821014  398.821014  26580100.0\n",
              "\n",
              "[5 rows x 7 columns]"
            ]
          },
          "metadata": {
            "tags": []
          },
          "execution_count": 5
        }
      ]
    },
    {
      "cell_type": "code",
      "metadata": {
        "id": "EnQRq39ApfjH",
        "colab_type": "code",
        "outputId": "05d028ab-133c-47b4-e323-ac79bc27deca",
        "colab": {
          "base_uri": "https://localhost:8080/",
          "height": 153
        }
      },
      "source": [
        "data.dtypes\n"
      ],
      "execution_count": 6,
      "outputs": [
        {
          "output_type": "execute_result",
          "data": {
            "text/plain": [
              "Date          object\n",
              "Open         float64\n",
              "High         float64\n",
              "Low          float64\n",
              "Close        float64\n",
              "Adj Close    float64\n",
              "Volume       float64\n",
              "dtype: object"
            ]
          },
          "metadata": {
            "tags": []
          },
          "execution_count": 6
        }
      ]
    },
    {
      "cell_type": "code",
      "metadata": {
        "id": "ICKOltP3p3Mg",
        "colab_type": "code",
        "colab": {}
      },
      "source": [
        "data = data.drop(['Open', 'High', 'Low', 'Adj Close', 'Volume'], axis = 1)\n",
        "price_column = 'Close'\n",
        "data = data.set_index('Date')\n",
        "data.index = pd.to_datetime(data.index)"
      ],
      "execution_count": 0,
      "outputs": []
    },
    {
      "cell_type": "code",
      "metadata": {
        "id": "8hJ1SEt7p9Dh",
        "colab_type": "code",
        "outputId": "4ef8dfc1-0d4a-4990-c41c-f889279b74d5",
        "colab": {
          "base_uri": "https://localhost:8080/",
          "height": 450
        }
      },
      "source": [
        "data"
      ],
      "execution_count": 8,
      "outputs": [
        {
          "output_type": "execute_result",
          "data": {
            "text/html": [
              "<div>\n",
              "<style scoped>\n",
              "    .dataframe tbody tr th:only-of-type {\n",
              "        vertical-align: middle;\n",
              "    }\n",
              "\n",
              "    .dataframe tbody tr th {\n",
              "        vertical-align: top;\n",
              "    }\n",
              "\n",
              "    .dataframe thead th {\n",
              "        text-align: right;\n",
              "    }\n",
              "</style>\n",
              "<table border=\"1\" class=\"dataframe\">\n",
              "  <thead>\n",
              "    <tr style=\"text-align: right;\">\n",
              "      <th></th>\n",
              "      <th>Close</th>\n",
              "    </tr>\n",
              "    <tr>\n",
              "      <th>Date</th>\n",
              "      <th></th>\n",
              "    </tr>\n",
              "  </thead>\n",
              "  <tbody>\n",
              "    <tr>\n",
              "      <th>2014-09-17</th>\n",
              "      <td>457.334015</td>\n",
              "    </tr>\n",
              "    <tr>\n",
              "      <th>2014-09-18</th>\n",
              "      <td>424.440002</td>\n",
              "    </tr>\n",
              "    <tr>\n",
              "      <th>2014-09-19</th>\n",
              "      <td>394.795990</td>\n",
              "    </tr>\n",
              "    <tr>\n",
              "      <th>2014-09-20</th>\n",
              "      <td>408.903992</td>\n",
              "    </tr>\n",
              "    <tr>\n",
              "      <th>2014-09-21</th>\n",
              "      <td>398.821014</td>\n",
              "    </tr>\n",
              "    <tr>\n",
              "      <th>...</th>\n",
              "      <td>...</td>\n",
              "    </tr>\n",
              "    <tr>\n",
              "      <th>2020-04-29</th>\n",
              "      <td>8801.038086</td>\n",
              "    </tr>\n",
              "    <tr>\n",
              "      <th>2020-04-30</th>\n",
              "      <td>8658.553711</td>\n",
              "    </tr>\n",
              "    <tr>\n",
              "      <th>2020-05-01</th>\n",
              "      <td>8864.766602</td>\n",
              "    </tr>\n",
              "    <tr>\n",
              "      <th>2020-05-02</th>\n",
              "      <td>NaN</td>\n",
              "    </tr>\n",
              "    <tr>\n",
              "      <th>2020-05-03</th>\n",
              "      <td>8860.685547</td>\n",
              "    </tr>\n",
              "  </tbody>\n",
              "</table>\n",
              "<p>2056 rows × 1 columns</p>\n",
              "</div>"
            ],
            "text/plain": [
              "                  Close\n",
              "Date                   \n",
              "2014-09-17   457.334015\n",
              "2014-09-18   424.440002\n",
              "2014-09-19   394.795990\n",
              "2014-09-20   408.903992\n",
              "2014-09-21   398.821014\n",
              "...                 ...\n",
              "2020-04-29  8801.038086\n",
              "2020-04-30  8658.553711\n",
              "2020-05-01  8864.766602\n",
              "2020-05-02          NaN\n",
              "2020-05-03  8860.685547\n",
              "\n",
              "[2056 rows x 1 columns]"
            ]
          },
          "metadata": {
            "tags": []
          },
          "execution_count": 8
        }
      ]
    },
    {
      "cell_type": "code",
      "metadata": {
        "id": "vEfpkCUrp-Rx",
        "colab_type": "code",
        "colab": {}
      },
      "source": [
        "def train_test_split(df, test_size=0.2):\n",
        "    split_row = len(df) - int(test_size * len(df))\n",
        "    train_data = df.iloc[:split_row]\n",
        "    test_data = df.iloc[split_row:]\n",
        "    return train_data, test_data\n",
        "train, test = train_test_split(data, test_size=0.2)"
      ],
      "execution_count": 0,
      "outputs": []
    },
    {
      "cell_type": "code",
      "metadata": {
        "id": "pct6c3ve7gxU",
        "colab_type": "code",
        "colab": {}
      },
      "source": [
        ""
      ],
      "execution_count": 0,
      "outputs": []
    },
    {
      "cell_type": "code",
      "metadata": {
        "id": "KX3RTTVuqDqh",
        "colab_type": "code",
        "outputId": "f629ad50-01e3-4ab9-96f4-e6ac7e0ccb86",
        "colab": {
          "base_uri": "https://localhost:8080/",
          "height": 464
        }
      },
      "source": [
        "def line_plot(line1, line2, label1=None, label2=None, title='', lw=2):\n",
        "    fig, ax = plt.subplots(1, figsize=(13, 7))\n",
        "    ax.plot(line1, label=label1, linewidth=lw)\n",
        "    ax.plot(line2, label=label2, linewidth=lw)\n",
        "    ax.set_ylabel('Price [USD]', fontsize=14)\n",
        "    ax.set_xlabel('Time', fontsize = 14)\n",
        "    ax.set_title(title, fontsize=16)\n",
        "    ax.legend(loc='best', fontsize=16)\n",
        "line_plot(train[price_column], test[price_column], 'Training Prices', 'Testing Prices', title='Project Outline')"
      ],
      "execution_count": 10,
      "outputs": [
        {
          "output_type": "display_data",
          "data": {
            "image/png": "[encoded data removed]",
            "text/plain": [
              "<Figure size 936x504 with 1 Axes>"
            ]
          },
          "metadata": {
            "tags": [],
            "needs_background": "light"
          }
        }
      ]
    },
    {
      "cell_type": "code",
      "metadata": {
        "id": "_Zx5D1pPqIVz",
        "colab_type": "code",
        "colab": {}
      },
      "source": [
        "def normalise_zero_base(df):\n",
        "    return df / df.iloc[0] - 1\n",
        "\n",
        "def normalise_min_max(df):\n",
        "    return (df - df.min()) / (data.max() - df.min())"
      ],
      "execution_count": 0,
      "outputs": []
    },
    {
      "cell_type": "code",
      "metadata": {
        "id": "QtK04Oh9ranu",
        "colab_type": "code",
        "colab": {}
      },
      "source": [
        "def extract_window_data(df, window_len=5, zero_base=True):\n",
        "    window_data = []\n",
        "    for idx in range(len(df) - window_len):\n",
        "        tmp = df[idx: (idx + window_len)].copy()\n",
        "        if zero_base:\n",
        "            tmp = normalise_zero_base(tmp)\n",
        "        window_data.append(tmp.values)\n",
        "    return np.array(window_data)"
      ],
      "execution_count": 0,
      "outputs": []
    },
    {
      "cell_type": "code",
      "metadata": {
        "id": "NUGNTkFrrcVd",
        "colab_type": "code",
        "colab": {}
      },
      "source": [
        "def prepare_data(df, price_column, window_len=10, zero_base=True, test_size=0.2):\n",
        "    train_data, test_data = train_test_split(df, test_size=test_size)\n",
        "    X_train = extract_window_data(train_data, window_len, zero_base)\n",
        "    X_test = extract_window_data(test_data, window_len, zero_base)\n",
        "    y_train = train_data[price_column][window_len:].values\n",
        "    y_test = test_data[price_column][window_len:].values\n",
        "    if zero_base:\n",
        "        y_train = y_train / train_data[price_column][:-window_len].values - 1\n",
        "        y_test = y_test / test_data[price_column][:-window_len].values - 1\n",
        "\n",
        "    return train_data, test_data, X_train, X_test, y_train, y_test"
      ],
      "execution_count": 0,
      "outputs": []
    },
    {
      "cell_type": "code",
      "metadata": {
        "id": "UArZYZehrkiv",
        "colab_type": "code",
        "colab": {}
      },
      "source": [
        "def build_lstm_model(input_data, output_size, neurons=100, activ_func='linear', dropout=0.2, loss='mse', optimizer='adam'):\n",
        "    model = Sequential()\n",
        "    model.add(LSTM(neurons, input_shape=(input_data.shape[1], input_data.shape[2])))\n",
        "    model.add(Dropout(dropout))\n",
        "    model.add(Dense(units=output_size))\n",
        "    model.add(Activation(activ_func))\n",
        "    model.compile(loss=loss, optimizer=optimizer)\n",
        "    return model\n",
        "  "
      ],
      "execution_count": 0,
      "outputs": []
    },
    {
      "cell_type": "code",
      "metadata": {
        "id": "rwhxHZRjrr6e",
        "colab_type": "code",
        "colab": {}
      },
      "source": [
        "np.random.seed(42)\n",
        "window_len = 5\n",
        "test_size = 0.2\n",
        "zero_base = True\n",
        "lstm_neurons = 100\n",
        "epochs = 100\n",
        "batch_size = 32\n",
        "loss = 'mse'\n",
        "dropout = 0.2\n",
        "optimizer = 'adam'"
      ],
      "execution_count": 0,
      "outputs": []
    },
    {
      "cell_type": "code",
      "metadata": {
        "id": "vfNJ-dLMrvvH",
        "colab_type": "code",
        "outputId": "e4ebcb6e-7226-4946-b458-094f1acda4a2",
        "colab": {
          "base_uri": "https://localhost:8080/",
          "height": 1000
        }
      },
      "source": [
        "train, test, X_train, X_test, y_train, y_test = prepare_data(\n",
        "    data, price_column, window_len=window_len, zero_base=zero_base, test_size=test_size)\n",
        "model = build_lstm_model(\n",
        "    X_train, output_size=1, neurons=lstm_neurons, dropout=dropout, loss=loss,\n",
        "    optimizer=optimizer)\n",
        "history = model.fit(\n",
        "    X_train, y_train, epochs=epochs, batch_size=batch_size, verbose=1, shuffle=True)"
      ],
      "execution_count": 16,
      "outputs": [
        {
          "output_type": "stream",
          "text": [
            "Epoch 1/100\n",
            "1640/1640 [==============================] - 1s 523us/step - loss: 0.0046\n",
            "Epoch 2/100\n",
            "1640/1640 [==============================] - 0s 194us/step - loss: 0.0029\n",
            "Epoch 3/100\n",
            "1640/1640 [==============================] - 0s 194us/step - loss: 0.0024\n",
            "Epoch 4/100\n",
            "1640/1640 [==============================] - 0s 187us/step - loss: 0.0021\n",
            "Epoch 5/100\n",
            "1640/1640 [==============================] - 0s 197us/step - loss: 0.0019\n",
            "Epoch 6/100\n",
            "1640/1640 [==============================] - 0s 196us/step - loss: 0.0018\n",
            "Epoch 7/100\n",
            "1640/1640 [==============================] - 0s 190us/step - loss: 0.0017\n",
            "Epoch 8/100\n",
            "1640/1640 [==============================] - 0s 187us/step - loss: 0.0017\n",
            "Epoch 9/100\n",
            "1640/1640 [==============================] - 0s 190us/step - loss: 0.0016\n",
            "Epoch 10/100\n",
            "1640/1640 [==============================] - 0s 189us/step - loss: 0.0016\n",
            "Epoch 11/100\n",
            "1640/1640 [==============================] - 0s 186us/step - loss: 0.0016\n",
            "Epoch 12/100\n",
            "1640/1640 [==============================] - 0s 191us/step - loss: 0.0016\n",
            "Epoch 13/100\n",
            "1640/1640 [==============================] - 0s 182us/step - loss: 0.0016\n",
            "Epoch 14/100\n",
            "1640/1640 [==============================] - 0s 192us/step - loss: 0.0016\n",
            "Epoch 15/100\n",
            "1640/1640 [==============================] - 0s 192us/step - loss: 0.0016\n",
            "Epoch 16/100\n",
            "1640/1640 [==============================] - 0s 198us/step - loss: 0.0016\n",
            "Epoch 17/100\n",
            "1640/1640 [==============================] - 0s 191us/step - loss: 0.0016\n",
            "Epoch 18/100\n",
            "1640/1640 [==============================] - 0s 198us/step - loss: 0.0016\n",
            "Epoch 19/100\n",
            "1640/1640 [==============================] - 0s 191us/step - loss: 0.0016\n",
            "Epoch 20/100\n",
            "1640/1640 [==============================] - 0s 196us/step - loss: 0.0016\n",
            "Epoch 21/100\n",
            "1640/1640 [==============================] - 0s 190us/step - loss: 0.0016\n",
            "Epoch 22/100\n",
            "1640/1640 [==============================] - 0s 186us/step - loss: 0.0016\n",
            "Epoch 23/100\n",
            "1640/1640 [==============================] - 0s 192us/step - loss: 0.0016\n",
            "Epoch 24/100\n",
            "1640/1640 [==============================] - 0s 200us/step - loss: 0.0016\n",
            "Epoch 25/100\n",
            "1640/1640 [==============================] - 0s 190us/step - loss: 0.0016\n",
            "Epoch 26/100\n",
            "1640/1640 [==============================] - 0s 187us/step - loss: 0.0015\n",
            "Epoch 27/100\n",
            "1640/1640 [==============================] - 0s 185us/step - loss: 0.0016\n",
            "Epoch 28/100\n",
            "1640/1640 [==============================] - 0s 184us/step - loss: 0.0016\n",
            "Epoch 29/100\n",
            "1640/1640 [==============================] - 0s 192us/step - loss: 0.0016\n",
            "Epoch 30/100\n",
            "1640/1640 [==============================] - 0s 184us/step - loss: 0.0016\n",
            "Epoch 31/100\n",
            "1640/1640 [==============================] - 0s 185us/step - loss: 0.0016\n",
            "Epoch 32/100\n",
            "1640/1640 [==============================] - 0s 202us/step - loss: 0.0016\n",
            "Epoch 33/100\n",
            "1640/1640 [==============================] - 0s 187us/step - loss: 0.0016\n",
            "Epoch 34/100\n",
            "1640/1640 [==============================] - 0s 184us/step - loss: 0.0016\n",
            "Epoch 35/100\n",
            "1640/1640 [==============================] - 0s 188us/step - loss: 0.0016\n",
            "Epoch 36/100\n",
            "1640/1640 [==============================] - 0s 188us/step - loss: 0.0016\n",
            "Epoch 37/100\n",
            "1640/1640 [==============================] - 0s 185us/step - loss: 0.0016\n",
            "Epoch 38/100\n",
            "1640/1640 [==============================] - 0s 186us/step - loss: 0.0016\n",
            "Epoch 39/100\n",
            "1640/1640 [==============================] - 0s 188us/step - loss: 0.0016\n",
            "Epoch 40/100\n",
            "1640/1640 [==============================] - 0s 185us/step - loss: 0.0016\n",
            "Epoch 41/100\n",
            "1640/1640 [==============================] - 0s 185us/step - loss: 0.0016\n",
            "Epoch 42/100\n",
            "1640/1640 [==============================] - 0s 186us/step - loss: 0.0016\n",
            "Epoch 43/100\n",
            "1640/1640 [==============================] - 0s 190us/step - loss: 0.0016\n",
            "Epoch 44/100\n",
            "1640/1640 [==============================] - 0s 185us/step - loss: 0.0016\n",
            "Epoch 45/100\n",
            "1640/1640 [==============================] - 0s 186us/step - loss: 0.0016\n",
            "Epoch 46/100\n",
            "1640/1640 [==============================] - 0s 181us/step - loss: 0.0016\n",
            "Epoch 47/100\n",
            "1640/1640 [==============================] - 0s 186us/step - loss: 0.0016\n",
            "Epoch 48/100\n",
            "1640/1640 [==============================] - 0s 189us/step - loss: 0.0016\n",
            "Epoch 49/100\n",
            "1640/1640 [==============================] - 0s 183us/step - loss: 0.0016\n",
            "Epoch 50/100\n",
            "1640/1640 [==============================] - 0s 187us/step - loss: 0.0016\n",
            "Epoch 51/100\n",
            "1640/1640 [==============================] - 0s 181us/step - loss: 0.0016\n",
            "Epoch 52/100\n",
            "1640/1640 [==============================] - 0s 205us/step - loss: 0.0016\n",
            "Epoch 53/100\n",
            "1640/1640 [==============================] - 0s 183us/step - loss: 0.0015\n",
            "Epoch 54/100\n",
            "1640/1640 [==============================] - 0s 182us/step - loss: 0.0015\n",
            "Epoch 55/100\n",
            "1640/1640 [==============================] - 0s 198us/step - loss: 0.0016\n",
            "Epoch 56/100\n",
            "1640/1640 [==============================] - 0s 191us/step - loss: 0.0016\n",
            "Epoch 57/100\n",
            "1640/1640 [==============================] - 0s 197us/step - loss: 0.0016\n",
            "Epoch 58/100\n",
            "1640/1640 [==============================] - 0s 188us/step - loss: 0.0016\n",
            "Epoch 59/100\n",
            "1640/1640 [==============================] - 0s 192us/step - loss: 0.0016\n",
            "Epoch 60/100\n",
            "1640/1640 [==============================] - 0s 185us/step - loss: 0.0015\n",
            "Epoch 61/100\n",
            "1640/1640 [==============================] - 0s 187us/step - loss: 0.0016\n",
            "Epoch 62/100\n",
            "1640/1640 [==============================] - 0s 183us/step - loss: 0.0016\n",
            "Epoch 63/100\n",
            "1640/1640 [==============================] - 0s 191us/step - loss: 0.0016\n",
            "Epoch 64/100\n",
            "1640/1640 [==============================] - 0s 184us/step - loss: 0.0016\n",
            "Epoch 65/100\n",
            "1640/1640 [==============================] - 0s 189us/step - loss: 0.0015\n",
            "Epoch 66/100\n",
            "1640/1640 [==============================] - 0s 194us/step - loss: 0.0016\n",
            "Epoch 67/100\n",
            "1640/1640 [==============================] - 0s 186us/step - loss: 0.0016\n",
            "Epoch 68/100\n",
            "1640/1640 [==============================] - 0s 187us/step - loss: 0.0016\n",
            "Epoch 69/100\n",
            "1640/1640 [==============================] - 0s 185us/step - loss: 0.0016\n",
            "Epoch 70/100\n",
            "1640/1640 [==============================] - 0s 179us/step - loss: 0.0016\n",
            "Epoch 71/100\n",
            "1640/1640 [==============================] - 0s 192us/step - loss: 0.0016\n",
            "Epoch 72/100\n",
            "1640/1640 [==============================] - 0s 188us/step - loss: 0.0016\n",
            "Epoch 73/100\n",
            "1640/1640 [==============================] - 0s 191us/step - loss: 0.0015\n",
            "Epoch 74/100\n",
            "1640/1640 [==============================] - 0s 185us/step - loss: 0.0016\n",
            "Epoch 75/100\n",
            "1640/1640 [==============================] - 0s 192us/step - loss: 0.0016\n",
            "Epoch 76/100\n",
            "1640/1640 [==============================] - 0s 182us/step - loss: 0.0016\n",
            "Epoch 77/100\n",
            "1640/1640 [==============================] - 0s 185us/step - loss: 0.0015\n",
            "Epoch 78/100\n",
            "1640/1640 [==============================] - 0s 197us/step - loss: 0.0016\n",
            "Epoch 79/100\n",
            "1640/1640 [==============================] - 0s 183us/step - loss: 0.0015\n",
            "Epoch 80/100\n",
            "1640/1640 [==============================] - 0s 184us/step - loss: 0.0016\n",
            "Epoch 81/100\n",
            "1640/1640 [==============================] - 0s 189us/step - loss: 0.0016\n",
            "Epoch 82/100\n",
            "1640/1640 [==============================] - 0s 190us/step - loss: 0.0016\n",
            "Epoch 83/100\n",
            "1640/1640 [==============================] - 0s 187us/step - loss: 0.0016\n",
            "Epoch 84/100\n",
            "1640/1640 [==============================] - 0s 195us/step - loss: 0.0015\n",
            "Epoch 85/100\n",
            "1640/1640 [==============================] - 0s 194us/step - loss: 0.0016\n",
            "Epoch 86/100\n",
            "1640/1640 [==============================] - 0s 186us/step - loss: 0.0016\n",
            "Epoch 87/100\n",
            "1640/1640 [==============================] - 0s 182us/step - loss: 0.0016\n",
            "Epoch 88/100\n",
            "1640/1640 [==============================] - 0s 189us/step - loss: 0.0016\n",
            "Epoch 89/100\n",
            "1640/1640 [==============================] - 0s 191us/step - loss: 0.0016\n",
            "Epoch 90/100\n",
            "1640/1640 [==============================] - 0s 192us/step - loss: 0.0016\n",
            "Epoch 91/100\n",
            "1640/1640 [==============================] - 0s 183us/step - loss: 0.0016\n",
            "Epoch 92/100\n",
            "1640/1640 [==============================] - 0s 189us/step - loss: 0.0016\n",
            "Epoch 93/100\n",
            "1640/1640 [==============================] - 0s 182us/step - loss: 0.0016\n",
            "Epoch 94/100\n",
            "1640/1640 [==============================] - 0s 189us/step - loss: 0.0016\n",
            "Epoch 95/100\n",
            "1640/1640 [==============================] - 0s 184us/step - loss: 0.0016\n",
            "Epoch 96/100\n",
            "1640/1640 [==============================] - 0s 185us/step - loss: 0.0016\n",
            "Epoch 97/100\n",
            "1640/1640 [==============================] - 0s 189us/step - loss: 0.0016\n",
            "Epoch 98/100\n",
            "1640/1640 [==============================] - 0s 189us/step - loss: 0.0016\n",
            "Epoch 99/100\n",
            "1640/1640 [==============================] - 0s 190us/step - loss: 0.0015\n",
            "Epoch 100/100\n",
            "1640/1640 [==============================] - 0s 197us/step - loss: 0.0016\n"
          ],
          "name": "stdout"
        }
      ]
    },
    {
      "cell_type": "code",
      "metadata": {
        "id": "etiOh-55tpuG",
        "colab_type": "code",
        "colab": {}
      },
      "source": [
        "targets = test[price_column][window_len:]\n",
        "preds = model.predict(X_test).squeeze()"
      ],
      "execution_count": 0,
      "outputs": []
    },
    {
      "cell_type": "code",
      "metadata": {
        "id": "XuKCCxkQt64u",
        "colab_type": "code",
        "outputId": "b92c0f92-a9a5-4ae5-bf1c-0ace937aaa16",
        "colab": {
          "base_uri": "https://localhost:8080/",
          "height": 446
        }
      },
      "source": [
        "preds = test[price_column].values[:-window_len] * (preds + 1)\n",
        "preds = pd.Series(index=targets.index, data=preds)\n",
        "line_plot(targets, preds, 'actual_value', 'predicted_value', lw=3)"
      ],
      "execution_count": 18,
      "outputs": [
        {
          "output_type": "display_data",
          "data": {
            "image/png": "[encoded data removed]",
            "text/plain": [
              "<Figure size 936x504 with 1 Axes>"
            ]
          },
          "metadata": {
            "tags": [],
            "needs_background": "light"
          }
        }
      ]
    },
    {
      "cell_type": "code",
      "metadata": {
        "id": "kfvFzKxp7DhX",
        "colab_type": "code",
        "colab": {}
      },
      "source": [
        ""
      ],
      "execution_count": 0,
      "outputs": []
    }
  ]
}